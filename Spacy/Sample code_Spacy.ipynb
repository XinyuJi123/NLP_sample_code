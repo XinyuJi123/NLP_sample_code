{
 "cells": [
  {
   "cell_type": "code",
   "execution_count": 12,
   "id": "6f877f69",
   "metadata": {},
   "outputs": [],
   "source": [
    "#please make sure you have the package: pip install nameparser\n",
    "#current numpy version is 1.21\n",
    "import spacy\n",
    "import os\n",
    "from spacy.tokens import Span\n",
    "from datetime import datetime\n",
    "from nameparser.parser import HumanName\n",
    "import re\n",
    "from nltk.corpus import stopwords\n",
    "import json\n",
    "import glob\n",
    "import en_core_web_sm\n",
    "from collections import Counter\n",
    "\n",
    "class NLP:\n",
    "    def __init__(self,write=True):\n",
    "        self.w=write\n",
    "        \n",
    "    def get_article_titles(self):\n",
    "        file_list = glob.glob(\"*.txt\") \n",
    "        fnames = []\n",
    "        for fname in file_list:\n",
    "            fname = fname.split('_')[0]\n",
    "            fnames.append(fname)\n",
    "        with open (\\'article_titles_Spacy.json', 'w') as output_title:\n",
    "            output_title.write(json.dumps(fnames))\n",
    "    \n",
    "    def get_researcher_names(self):\n",
    "        person_articles = []\n",
    "        nlp = en_core_web_sm.load()\n",
    "        for article in glob.glob('./*.txt'):\n",
    "            article = open(article, 'r',encoding='utf-8')\n",
    "            # read all text\n",
    "            text = article.read()\n",
    "            t000=datetime.now()\n",
    "        \n",
    "            #new_ents = []\n",
    "            #for ent in text.ents:\n",
    "                #if ent.label_ == \"PERSON\":\n",
    "                    #new_ent = Span(text, ent.start, ent.end, label=ent.label)\n",
    "                    #person_articles.append(new_ent)\n",
    "            text = nlp(text)\n",
    "            person = [ent.text for ent in text.ents if ent.label_=='PERSON']\n",
    "            person_articles.append(person)\n",
    "            \n",
    "        with open ('researcher_names_articles_Spacy.json', 'w') as output_name:\n",
    "            output_name.write(json.dumps(person_articles))\n",
    "                \n",
    "                \n",
    "        t001=datetime.now()\n",
    "        dt00=t001-t000\n",
    "        print('Name Extraction is completed after '+str(dt00.total_seconds())+' seconds')"
   ]
  },
  {
   "cell_type": "code",
   "execution_count": 13,
   "id": "27277925",
   "metadata": {},
   "outputs": [
    {
     "name": "stdout",
     "output_type": "stream",
     "text": [
      "Name Extraction is completed after 0.098022 seconds\n"
     ]
    }
   ],
   "source": [
    "spacy=NLP(write=True)\n",
    "spacy.get_article_titles()\n",
    "spacy.get_researcher_names()\n",
    "#nlp.dictionary_titles_names()"
   ]
  },
  {
   "cell_type": "code",
   "execution_count": 15,
   "id": "6cf04037",
   "metadata": {},
   "outputs": [
    {
     "data": {
      "text/plain": [
       "['Stephen Fried',\n",
       " 'Anneliese M. Faustino',\n",
       " 'Mikhail Makarov',\n",
       " 'Alma C. Sanchez Rocha',\n",
       " 'Ivan Cherepashuk',\n",
       " 'Robin Krystufek',\n",
       " 'Klara Hlouchova',\n",
       " 'Volha Dzmitruk',\n",
       " 'Tatsiana Charnavets',\n",
       " 'Michal Lebl',\n",
       " 'Kosuke Fujishima']"
      ]
     },
     "execution_count": 15,
     "metadata": {},
     "output_type": "execute_result"
    }
   ],
   "source": [
    "article_titles = []\n",
    "\n",
    "with open('article_titles_Spacy.json') as output_title:\n",
    "    for title in output_title:\n",
    "        article_titles.append(json.loads(title))\n",
    "\n",
    "researcher_names = []\n",
    "        \n",
    "with open('researcher_names_articles_Spacy.json') as output_name:\n",
    "    for name in output_name:\n",
    "        researcher_names.append(json.loads(name))\n",
    "                \n",
    "genders = []\n",
    "if os.path.exists('researcher_gender_articles_Spacy.json'):\n",
    "    with open('researcher_gender_articles_Spacy.json') as output_gender:\n",
    "        genders = json.load(output_gender)\n",
    "\n",
    "researcher_dict = {}\n",
    "for i in range(len(researcher_names[0])):\n",
    "    researcher_dict[article_titles[0][i]] = researcher_names[0][i]\n",
    "\n",
    "                \n",
    "def get_next_researcher():\n",
    "    return list(researcher_dict.values())[len(genders)]\n",
    "\n",
    "\n",
    "get_next_researcher()"
   ]
  },
  {
   "cell_type": "code",
   "execution_count": 16,
   "id": "5c334212",
   "metadata": {},
   "outputs": [
    {
     "data": {
      "application/javascript": [
       "        \n",
       "function set_gender(gender){\n",
       "    var kernel = IPython.notebook.kernel;\n",
       "    kernel.execute(\"genders.append(\" + gender + \")\");\n",
       "    load_next_researcher();\n",
       "}\n",
       "\n",
       "function handle_output(out){\n",
       "    var res = out.content.data[\"text/plain\"];\n",
       "    $(\"div#researcher\").html(res);\n",
       "}\n",
       "        \n",
       "function load_next_researcher(){\n",
       "    var code_input = \"get_next_researcher()\";\n",
       "    var kernel = IPython.notebook.kernel;\n",
       "    var callbacks = { 'iopub' : {'output' : handle_output}};\n",
       "    kernel.execute(code_input, callbacks, {silent:false});\n",
       "}\n"
      ],
      "text/plain": [
       "<IPython.core.display.Javascript object>"
      ]
     },
     "metadata": {},
     "output_type": "display_data"
    }
   ],
   "source": [
    "%%javascript\n",
    "        \n",
    "function set_gender(gender){\n",
    "    var kernel = IPython.notebook.kernel;\n",
    "    kernel.execute(\"genders.append(\" + gender + \")\");\n",
    "    load_next_researcher();\n",
    "}\n",
    "\n",
    "function handle_output(out){\n",
    "    var res = out.content.data[\"text/plain\"];\n",
    "    $(\"div#researcher\").html(res);\n",
    "}\n",
    "        \n",
    "function load_next_researcher(){\n",
    "    var code_input = \"get_next_researcher()\";\n",
    "    var kernel = IPython.notebook.kernel;\n",
    "    var callbacks = { 'iopub' : {'output' : handle_output}};\n",
    "    kernel.execute(code_input, callbacks, {silent:false});\n",
    "}"
   ]
  },
  {
   "cell_type": "code",
   "execution_count": 17,
   "id": "e04c62fb",
   "metadata": {},
   "outputs": [
    {
     "data": {
      "text/html": [
       "<div name=\"researcherbox\">\n",
       "    Instructions: Click in textbox. Enter a 1 if the researcher is female, enter 0 otherwise. <br>\n",
       "Researcher Name: <div id=\"researcher\" value=\"text\"></div><br>\n",
       "<input type=researcher_names id=\"capture\"></input><br>\n",
       "</div>\n",
       "        \n",
       "<script>\n",
       "\n",
       "function set_gender(gender){\n",
       "    var kernel = IPython.notebook.kernel;\n",
       "    kernel.execute(\"genders.append(\" + gender + \")\");\n",
       "    load_next_researcher();\n",
       "}\n",
       "\n",
       "function handle_output(out){\n",
       "    var res = out.content.data[\"text/plain\"];\n",
       "    $(\"div#researcher\").html(res);\n",
       "}\n",
       "        \n",
       "function load_next_researcher(){\n",
       "    var code_input = \"get_next_researcher()\";\n",
       "    var kernel = IPython.notebook.kernel;\n",
       "    var callbacks = { 'iopub' : {'output' : handle_output}};\n",
       "    kernel.execute(code_input, callbacks, {silent:false});\n",
       "}\n",
       "\n",
       "$(\"input#capture\").keypress(function(e) {\n",
       "if(e.which == 48) {\n",
       "    set_gender(0);\n",
       "    $(\"input#capture\").val(\"\");\n",
       "}else if (e.which == 49){\n",
       "    set_gender(1);\n",
       "    $(\"input#capture\").val(\"\");\n",
       "  }\n",
       "});\n",
       "        \n",
       "load_next_researcher();\n",
       "</script>\n"
      ],
      "text/plain": [
       "<IPython.core.display.HTML object>"
      ]
     },
     "metadata": {},
     "output_type": "display_data"
    }
   ],
   "source": [
    "%%html\n",
    "<div name=\"researcherbox\">\n",
    "    Instructions: Click in textbox. Enter a 1 if the researcher is female, enter 0 otherwise. <br>\n",
    "Researcher Name: <div id=\"researcher\" value=\"text\"></div><br>\n",
    "<input type=researcher_names id=\"capture\"></input><br>\n",
    "</div>\n",
    "        \n",
    "<script>\n",
    "\n",
    "function set_gender(gender){\n",
    "    var kernel = IPython.notebook.kernel;\n",
    "    kernel.execute(\"genders.append(\" + gender + \")\");\n",
    "    load_next_researcher();\n",
    "}\n",
    "\n",
    "function handle_output(out){\n",
    "    var res = out.content.data[\"text/plain\"];\n",
    "    $(\"div#researcher\").html(res);\n",
    "}\n",
    "        \n",
    "function load_next_researcher(){\n",
    "    var code_input = \"get_next_researcher()\";\n",
    "    var kernel = IPython.notebook.kernel;\n",
    "    var callbacks = { 'iopub' : {'output' : handle_output}};\n",
    "    kernel.execute(code_input, callbacks, {silent:false});\n",
    "}\n",
    "\n",
    "$(\"input#capture\").keypress(function(e) {\n",
    "if(e.which == 48) {\n",
    "    set_gender(0);\n",
    "    $(\"input#capture\").val(\"\");\n",
    "}else if (e.which == 49){\n",
    "    set_gender(1);\n",
    "    $(\"input#capture\").val(\"\");\n",
    "  }\n",
    "});\n",
    "        \n",
    "load_next_researcher();\n",
    "</script>"
   ]
  },
  {
   "cell_type": "code",
   "execution_count": 18,
   "id": "0eb45a88",
   "metadata": {},
   "outputs": [],
   "source": [
    "with open('researcher_genders.json', 'w') as output_gender:\n",
    "    json.dump(genders,output_gender)"
   ]
  }
 ],
 "metadata": {
  "kernelspec": {
   "display_name": "Python 3",
   "language": "python",
   "name": "python3"
  },
  "language_info": {
   "codemirror_mode": {
    "name": "ipython",
    "version": 3
   },
   "file_extension": ".py",
   "mimetype": "text/x-python",
   "name": "python",
   "nbconvert_exporter": "python",
   "pygments_lexer": "ipython3",
   "version": "3.8.8"
  }
 },
 "nbformat": 4,
 "nbformat_minor": 5
}
