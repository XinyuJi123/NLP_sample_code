{
 "cells": [
  {
   "cell_type": "code",
   "execution_count": 3,
   "id": "62e09cc2",
   "metadata": {},
   "outputs": [
    {
     "name": "stderr",
     "output_type": "stream",
     "text": [
      "[nltk_data] Downloading package words to\n",
      "[nltk_data]     C:\\Users\\78234\\AppData\\Roaming\\nltk_data...\n",
      "[nltk_data]   Package words is already up-to-date!\n",
      "[nltk_data] Downloading package stopwords to\n",
      "[nltk_data]     C:\\Users\\78234\\AppData\\Roaming\\nltk_data...\n",
      "[nltk_data]   Package stopwords is already up-to-date!\n"
     ]
    }
   ],
   "source": [
    "#env python3\n",
    "# -*- coding: utf-8 -*-\n",
    "#current numpy version is 1.21\n",
    "\n",
    "\"\"\"\n",
    "This sample module extracts researcher names from news article content by nltk package.\n",
    "For the purpose of demonstration, I extracted news from \"Science Daily\" website,(https://www.sciencedaily.com/)\n",
    "\n",
    "Steps: 1. Get news titles for future use, such as pair up with interviewed researchers.\n",
    "       2. Data cleaning and get researcher names from news content.\n",
    "       3. Label researcher genders and for future use, by Javascript and HTML magic cells.\n",
    "\n",
    "Outputs: All three output json files are saved in child folder \"News\", including:\n",
    "         1. json file containing news titles.\n",
    "         2. json file containing researcher names.\n",
    "         3. json file containing researcher genders. \n",
    "\n",
    "@author: Xinyu Ji GitHub: https://github.com/XinyuJi123\n",
    "Common disclaimers apply. Subject to change at all time.\n",
    "\n",
    "Last review: 13/03/2023\n",
    "\"\"\"\n",
    "\n",
    "import os\n",
    "import re\n",
    "import json\n",
    "import glob\n",
    "from datetime import datetime\n",
    "import nltk\n",
    "from nltk.corpus import stopwords\n",
    "from nameparser.parser import HumanName\n",
    "nltk.download('words')\n",
    "nltk.download('stopwords')\n",
    "\n",
    "class NLP:\n",
    "    def __init__(self,write=True):\n",
    "        self.w=write\n",
    "        \n",
    "    def get_article_titles(self):\n",
    "        write=self.w\n",
    "        \n",
    "        file_list = os.listdir(\"News/\")\n",
    "        fnames = []\n",
    "        #Get news titles from file names\n",
    "        for fname in file_list:\n",
    "            fname = fname.split('_')[0]\n",
    "            fnames.append(fname)\n",
    "        if write == True:\n",
    "            with open ('article_titles_nltk.json', 'w') as output_title:\n",
    "                output_title.write(json.dumps(fnames))\n",
    "    \n",
    "    def get_researcher_names(self):\n",
    "        write=self.w\n",
    "        \n",
    "        person_articles = []\n",
    "        t000=datetime.now()\n",
    "        for article in glob.glob('News/*.txt'):\n",
    "            article = open(article, 'r',encoding='utf-8')\n",
    "            # read all text\n",
    "            text = article.read()\n",
    "            # Remove punctuation\n",
    "            text = re.sub('[,\\.!?]', '', text)\n",
    "            tokens = nltk.tokenize.word_tokenize(text)\n",
    "        \n",
    "            #Remove stopword\n",
    "            stop_words = stopwords.words('english')\n",
    "            tokens_without_stopwords = []\n",
    "            for word in tokens:\n",
    "                if word not in stop_words:\n",
    "                    tokens_without_stopwords.append(word) \n",
    "                    \n",
    "            #Part of sppech tag    \n",
    "            pos = nltk.pos_tag(tokens_without_stopwords)\n",
    "            #Named entity - get researcher names from news content\n",
    "            ne = nltk.ne_chunk(pos, binary = False)\n",
    "            person = []\n",
    "            person_list = []\n",
    "            name = ''\n",
    "            for subtree in ne.subtrees(filter=lambda t: t.label() == 'PERSON'):\n",
    "                for leaf in subtree.leaves():\n",
    "                    person.append(leaf[0])\n",
    "                if len(person) > 1: #avoid grabbing lone surnames\n",
    "                    for part in person:\n",
    "                        name += part + ' '\n",
    "                    person_list.append(name)\n",
    "                    name = ''\n",
    "                person = []\n",
    "            person_articles.append(person_list)\n",
    "        \n",
    "        if write == True:\n",
    "            with open ('researcher_names_articles_nltk.json', 'w') as output_name:\n",
    "                output_name.write(json.dumps(person_articles))\n",
    "                \n",
    "                \n",
    "        t001=datetime.now()\n",
    "        dt00=t001-t000\n",
    "        print('Name Extraction is completed after '+str(dt00.total_seconds())+' seconds')"
   ]
  },
  {
   "cell_type": "code",
   "execution_count": 4,
   "id": "95782993",
   "metadata": {},
   "outputs": [
    {
     "name": "stdout",
     "output_type": "stream",
     "text": [
      "Name Extraction is completed after 0.853105 seconds\n"
     ]
    }
   ],
   "source": [
    "NLTK=NLP(write=True)\n",
    "NLTK.get_article_titles()\n",
    "NLTK.get_researcher_names()"
   ]
  },
  {
   "cell_type": "code",
   "execution_count": 76,
   "id": "38e80c16",
   "metadata": {},
   "outputs": [
    {
     "data": {
      "text/plain": [
       "['Stephen Fried Johns Hopkins ',\n",
       " 'Charles University Czech Republic ',\n",
       " 'Human Frontier Science Program ',\n",
       " 'Anneliese M Faustino Johns Hopkins ',\n",
       " 'Mikhail Makarov Alma ',\n",
       " 'Sanchez Rocha Ivan Cherepashuk Robin Krystufek Klara Hlouchova Charles University ',\n",
       " 'Volha Dzmitruk Tatsiana Charnavets Michal Lebl Czech Academy Sciences ',\n",
       " 'Kosuke Fujishima Tokyo Institute Technology ']"
      ]
     },
     "execution_count": 76,
     "metadata": {},
     "output_type": "execute_result"
    }
   ],
   "source": [
    "#The following codes design an interface to label the mentioned researchers from news articles with their genders. \n",
    "# Other labels such as race, nationality, and other background factors can also be achieved in a similar way.\n",
    "#(WIP v1.0 by Javascript and HTML magic cells)\n",
    "\n",
    "\n",
    "#Initialting input json files preparation.\n",
    "article_titles = []\n",
    "\n",
    "with open('article_titles_nltk.json') as output_title:\n",
    "    for title in output_title:\n",
    "        article_titles.append(json.loads(title))\n",
    "\n",
    "researcher_names = []\n",
    "        \n",
    "with open('researcher_names_articles_nltk.json') as output_name:\n",
    "    for name in output_name:\n",
    "        researcher_names.append(json.loads(name))\n",
    "                \n",
    "genders = []\n",
    "if os.path.exists('researcher_gender_articles_nltk.json'):\n",
    "    with open('researcher_gender_articles_nltk.json') as output_gender:\n",
    "        genders = json.load(output_gender)\n",
    "\n",
    "researcher_dict = {}\n",
    "for i in range(len(researcher_names[0])):\n",
    "    researcher_dict[article_titles[0][i]] = researcher_names[0][i]\n",
    "\n",
    "#Make sure that we can start labelling from exactly where we left last time                \n",
    "def get_next_researcher():\n",
    "    return list(researcher_dict.values())[len(genders)]\n"
   ]
  },
  {
   "cell_type": "code",
   "execution_count": 68,
   "id": "7307476c",
   "metadata": {},
   "outputs": [
    {
     "data": {
      "application/javascript": [
       "        \n",
       "function set_gender(gender){\n",
       "    var kernel = IPython.notebook.kernel;\n",
       "    kernel.execute(\"genders.append(\" + gender + \")\");\n",
       "    load_next_researcher();\n",
       "}\n",
       "\n",
       "function handle_output(out){\n",
       "    var res = out.content.data[\"text/plain\"];\n",
       "    $(\"div#researcher\").html(res);\n",
       "}\n",
       "        \n",
       "function load_next_researcher(){\n",
       "    var code_input = \"get_next_researcher()\";\n",
       "    var kernel = IPython.notebook.kernel;\n",
       "    var callbacks = { 'iopub' : {'output' : handle_output}};\n",
       "    kernel.execute(code_input, callbacks, {silent:false});\n",
       "}\n"
      ],
      "text/plain": [
       "<IPython.core.display.Javascript object>"
      ]
     },
     "metadata": {},
     "output_type": "display_data"
    }
   ],
   "source": [
    "%%javascript\n",
    "        \n",
    "function set_gender(gender){\n",
    "    var kernel = IPython.notebook.kernel;\n",
    "    kernel.execute(\"genders.append(\" + gender + \")\");\n",
    "    load_next_researcher();\n",
    "}\n",
    "\n",
    "function handle_output(out){\n",
    "    var res = out.content.data[\"text/plain\"];\n",
    "    $(\"div#researcher\").html(res);\n",
    "}\n",
    "        \n",
    "function load_next_researcher(){\n",
    "    var code_input = \"get_next_researcher()\";\n",
    "    var kernel = IPython.notebook.kernel;\n",
    "    var callbacks = { 'iopub' : {'output' : handle_output}};\n",
    "    kernel.execute(code_input, callbacks, {silent:false});\n",
    "}"
   ]
  },
  {
   "cell_type": "code",
   "execution_count": 69,
   "id": "c96e21dd",
   "metadata": {},
   "outputs": [
    {
     "data": {
      "text/html": [
       "<div name=\"researcherbox\">\n",
       "    Instructions: Click in textbox. Enter a 1 if the researcher is female, enter 0 otherwise. <br>\n",
       "Researcher Name: <div id=\"researcher\" value=\"text\"></div><br>\n",
       "<input type=researcher_names id=\"capture\"></input><br>\n",
       "</div>\n",
       "        \n",
       "<script>\n",
       "\n",
       "function set_gender(gender){\n",
       "    var kernel = IPython.notebook.kernel;\n",
       "    kernel.execute(\"genders.append(\" + gender + \")\");\n",
       "    load_next_researcher();\n",
       "}\n",
       "\n",
       "function handle_output(out){\n",
       "    var res = out.content.data[\"text/plain\"];\n",
       "    $(\"div#researcher\").html(res);\n",
       "}\n",
       "        \n",
       "function load_next_researcher(){\n",
       "    var code_input = \"get_next_researcher()\";\n",
       "    var kernel = IPython.notebook.kernel;\n",
       "    var callbacks = { 'iopub' : {'output' : handle_output}};\n",
       "    kernel.execute(code_input, callbacks, {silent:false});\n",
       "}\n",
       "\n",
       "$(\"input#capture\").keypress(function(e) {\n",
       "if(e.which == 48) {\n",
       "    set_gender(0);\n",
       "    $(\"input#capture\").val(\"\");\n",
       "}else if (e.which == 49){\n",
       "    set_gender(1);\n",
       "    $(\"input#capture\").val(\"\");\n",
       "  }\n",
       "});\n",
       "        \n",
       "load_next_researcher();\n",
       "</script>\n"
      ],
      "text/plain": [
       "<IPython.core.display.HTML object>"
      ]
     },
     "metadata": {},
     "output_type": "display_data"
    }
   ],
   "source": [
    "%%html\n",
    "<div name=\"researcherbox\">\n",
    "    Instructions: Click in textbox. Enter a 1 if the researcher is female, enter 0 otherwise. <br>\n",
    "Researcher Name: <div id=\"researcher\" value=\"text\"></div><br>\n",
    "<input type=researcher_names id=\"capture\"></input><br>\n",
    "</div>\n",
    "        \n",
    "<script>\n",
    "\n",
    "function set_gender(gender){\n",
    "    var kernel = IPython.notebook.kernel;\n",
    "    kernel.execute(\"genders.append(\" + gender + \")\");\n",
    "    load_next_researcher();\n",
    "}\n",
    "\n",
    "function handle_output(out){\n",
    "    var res = out.content.data[\"text/plain\"];\n",
    "    $(\"div#researcher\").html(res);\n",
    "}\n",
    "        \n",
    "function load_next_researcher(){\n",
    "    var code_input = \"get_next_researcher()\";\n",
    "    var kernel = IPython.notebook.kernel;\n",
    "    var callbacks = { 'iopub' : {'output' : handle_output}};\n",
    "    kernel.execute(code_input, callbacks, {silent:false});\n",
    "}\n",
    "\n",
    "$(\"input#capture\").keypress(function(e) {\n",
    "if(e.which == 48) {\n",
    "    set_gender(0);\n",
    "    $(\"input#capture\").val(\"\");\n",
    "}else if (e.which == 49){\n",
    "    set_gender(1);\n",
    "    $(\"input#capture\").val(\"\");\n",
    "  }\n",
    "});\n",
    "        \n",
    "load_next_researcher();\n",
    "</script>"
   ]
  },
  {
   "cell_type": "code",
   "execution_count": 73,
   "id": "74ce7be5",
   "metadata": {},
   "outputs": [],
   "source": [
    "#Save json file containing gender labels.\n",
    "with open('researcher_genders_nltk.json', 'w') as output_gender:\n",
    "    json.dump(genders,output_gender)"
   ]
  },
  {
   "cell_type": "code",
   "execution_count": null,
   "id": "454c3e88",
   "metadata": {},
   "outputs": [],
   "source": []
  },
  {
   "cell_type": "code",
   "execution_count": null,
   "id": "81b6390d",
   "metadata": {},
   "outputs": [],
   "source": []
  }
 ],
 "metadata": {
  "kernelspec": {
   "display_name": "Python 3",
   "language": "python",
   "name": "python3"
  },
  "language_info": {
   "codemirror_mode": {
    "name": "ipython",
    "version": 3
   },
   "file_extension": ".py",
   "mimetype": "text/x-python",
   "name": "python",
   "nbconvert_exporter": "python",
   "pygments_lexer": "ipython3",
   "version": "3.8.8"
  }
 },
 "nbformat": 4,
 "nbformat_minor": 5
}
